{
 "cells": [
  {
   "cell_type": "markdown",
   "id": "55fe23ef",
   "metadata": {},
   "source": [
    "Create a python wrapper for the Pokemon API. It should take in a pokemon name and display the pokemon with its height and weight"
   ]
  },
  {
   "cell_type": "code",
   "execution_count": 2,
   "id": "69a2001a",
   "metadata": {},
   "outputs": [],
   "source": [
    "import requests"
   ]
  },
  {
   "cell_type": "code",
   "execution_count": 37,
   "id": "ed2cabc3",
   "metadata": {},
   "outputs": [
    {
     "name": "stdout",
     "output_type": "stream",
     "text": [
      "https://pokeapi.co/api/v2/pokemon/ditto/\n",
      "weight: 40\n",
      "height: 3\n"
     ]
    }
   ],
   "source": [
    "base_url = \"https://pokeapi.co/api/v2/\"\n",
    "pokemon_name = \"ditto\"\n",
    "# print(type(poke_data))\n",
    "\n",
    "api_url = f\"https://pokeapi.co/api/v2/pokemon/{pokemon_name}/\"\n",
    "print(api_url)\n",
    "res = requests.get(api_url)\n",
    "poke_data = res.json()\n",
    "\n",
    "pokemon_weight = poke_data['weight']\n",
    "print(f\"weight: {pokemon_weight}\")\n",
    "pokemon_height = poke_data['height']\n",
    "print(f\"height: {pokemon_height}\")"
   ]
  },
  {
   "cell_type": "code",
   "execution_count": 29,
   "id": "5d62fde4",
   "metadata": {
    "scrolled": true
   },
   "outputs": [
    {
     "name": "stdout",
     "output_type": "stream",
     "text": [
      "pikachu\n",
      "raichu\n",
      "squirtle\n",
      "your pokemon's name is pikachu\n",
      "height: 4\n",
      "weight: 60\n",
      "your pokemon's name is raichu\n",
      "height: 8\n",
      "weight: 300\n",
      "your pokemon's name is squirtle\n",
      "height: 5\n",
      "weight: 90\n"
     ]
    }
   ],
   "source": [
    "class PokemonAPI:\n",
    "    base_url = \"https://pokeapi.co/api/v2/\"\n",
    "    \n",
    "    def __init__(self, poke_name):\n",
    "        self.poke_name = poke_name\n",
    "        \n",
    "    def get_poke_name(self):\n",
    "        return self.poke_name\n",
    "        \n",
    "    def get_pokemon_height_weight(self):\n",
    "        api_url = f\"https://pokeapi.co/api/v2/pokemon/{self.poke_name}/\"\n",
    "        res = requests.get(api_url)\n",
    "        print(f\"your pokemon's name is {self.poke_name}\")\n",
    "        \n",
    "        json = res.json()\n",
    "        pokemon_height = json['height']\n",
    "        print(f\"height: {pokemon_height}\")\n",
    "    \n",
    "        pokemon_weight = json['weight']\n",
    "        print(f\"weight: {pokemon_weight}\")\n",
    "        \n",
    "        \n",
    "poke1 = PokemonAPI(\"pikachu\") #instances/objects of the API class\n",
    "poke2 = PokemonAPI(\"raichu\") \n",
    "poke3 = PokemonAPI(\"squirtle\")\n",
    "\n",
    "print(poke1.get_poke_name())\n",
    "print(poke2.get_poke_name())\n",
    "print(poke3.get_poke_name())\n",
    "\n",
    "poke1.get_pokemon_height_weight()\n",
    "poke2.get_pokemon_height_weight()\n",
    "poke3.get_pokemon_height_weight()\n"
   ]
  },
  {
   "cell_type": "code",
   "execution_count": 36,
   "id": "1399f2dd",
   "metadata": {
    "scrolled": true
   },
   "outputs": [
    {
     "name": "stdout",
     "output_type": "stream",
     "text": [
      "Please enter the name of your pokemon to find out it's height and weight or type quit to quit \n",
      "pikachu\n",
      "your pokemon's name is pikachu\n",
      "height: 4\n",
      "weight: 60\n",
      "None\n",
      "Please enter the name of your pokemon to find out it's height and weight or type quit to quit \n",
      "quit\n"
     ]
    }
   ],
   "source": [
    "def run():\n",
    "    pokemon_name = input(\"Please enter the name of your pokemon to find out it's height and weight or type quit to quit \\n\").lower()\n",
    "    while pokemon_name != \"quit\":\n",
    "        pokemon = PokemonAPI(pokemon_name)\n",
    "        finalpoke = pokemon.get_pokemon_height_weight()\n",
    "        print(finalpoke)\n",
    "        pokemon_name = input(\"Please enter the name of your pokemon to find out it's height and weight or type quit to quit \\n\").lower()\n",
    "run()\n",
    "\n",
    "    \n",
    "   \n",
    "\n"
   ]
  },
  {
   "cell_type": "code",
   "execution_count": null,
   "id": "0f91e08f",
   "metadata": {},
   "outputs": [],
   "source": []
  },
  {
   "cell_type": "code",
   "execution_count": null,
   "id": "72464bf0",
   "metadata": {},
   "outputs": [],
   "source": []
  }
 ],
 "metadata": {
  "kernelspec": {
   "display_name": "Python 3",
   "language": "python",
   "name": "python3"
  },
  "language_info": {
   "codemirror_mode": {
    "name": "ipython",
    "version": 3
   },
   "file_extension": ".py",
   "mimetype": "text/x-python",
   "name": "python",
   "nbconvert_exporter": "python",
   "pygments_lexer": "ipython3",
   "version": "3.10.8 (tags/v3.10.8:aaaf517, Oct 11 2022, 16:50:30) [MSC v.1933 64 bit (AMD64)]"
  },
  "vscode": {
   "interpreter": {
    "hash": "3ab5368e7ec7d93726c4b49a481fa74b0442170a02f03d047cec6ddd95fa5acf"
   }
  }
 },
 "nbformat": 4,
 "nbformat_minor": 5
}
